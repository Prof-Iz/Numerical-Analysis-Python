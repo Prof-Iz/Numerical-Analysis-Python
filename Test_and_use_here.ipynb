{
 "cells": [
  {
   "cell_type": "code",
   "execution_count": 1,
   "metadata": {},
   "outputs": [],
   "source": [
    "from Bisectional_and_False_pos import *\n",
    "from fixed_point_and_Newton_Rhapson import *\n",
    "from numerical_differentiation import *\n",
    "from secant_method import *\n",
    "from matrices_1 import *\n",
    "from chapter_21 import *\n",
    "from chapter_25 import *\n",
    "from chapter_18 import *"
   ]
  },
  {
   "cell_type": "code",
   "execution_count": null,
   "metadata": {},
   "outputs": [],
   "source": []
  }
 ],
 "metadata": {
  "kernelspec": {
   "name": "python3",
   "display_name": "Python 3.7.6 64-bit (conda)",
   "metadata": {
    "interpreter": {
     "hash": "8fac594bfae6525c0c41b4041d2d72effa188cc8ead05f81b1fab2bb098927fb"
    }
   }
  }
 },
 "nbformat": 4,
 "nbformat_minor": 4
}